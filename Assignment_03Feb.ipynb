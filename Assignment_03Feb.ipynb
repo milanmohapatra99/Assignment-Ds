{
 "cells": [
  {
   "cell_type": "markdown",
   "id": "5ec7e17a-d57e-4ddd-8fbc-c7e918f511a0",
   "metadata": {},
   "source": [
    "Q1. Which keyword is used to create a function?Create a function to return a list of odd numbers in the range of 1 to 25."
   ]
  },
  {
   "cell_type": "markdown",
   "id": "7eeb3b71-3d27-49b4-b631-1d121189aa44",
   "metadata": {},
   "source": [
    "Ans:- def keyword is used to create a function."
   ]
  },
  {
   "cell_type": "code",
   "execution_count": 1,
   "id": "2e1bb727-8703-4a37-a27f-b281115a3d53",
   "metadata": {},
   "outputs": [],
   "source": [
    "def fun():\n",
    "    l1 = []\n",
    "    for i in range(1,26) :\n",
    "        if i % 2 !=0 :\n",
    "            l1.append(i)\n",
    "    return l1"
   ]
  },
  {
   "cell_type": "code",
   "execution_count": 2,
   "id": "22e5e200-7a3c-4d81-bcd5-ba43bb18d496",
   "metadata": {},
   "outputs": [
    {
     "data": {
      "text/plain": [
       "[1, 3, 5, 7, 9, 11, 13, 15, 17, 19, 21, 23, 25]"
      ]
     },
     "execution_count": 2,
     "metadata": {},
     "output_type": "execute_result"
    }
   ],
   "source": [
    "fun()"
   ]
  },
  {
   "cell_type": "markdown",
   "id": "b3a0df49-4310-4f95-88a9-dd9486472ae4",
   "metadata": {},
   "source": [
    "Q.2 Why *args and **kwargs is used in some functions? Create a function each for *args and **kwargs to demonstrate their use."
   ]
  },
  {
   "cell_type": "markdown",
   "id": "cbfa14ae-ebb7-4c49-a46d-915841835750",
   "metadata": {},
   "source": [
    "Ans:- We use *args and **kwargs as an argument when we are unsure about the number of arguments to pass in the functions.\n",
    "\n",
    "=> *args in function  is used to pass a variable number of arguments to a function. It is used to pass a non-key worded, variable-length argument list. \n",
    "\n",
    "=> **kwargs in function is used to pass a keyworded, variable-length argument list. We use the name kwargs with the double star. The reason is that the double star allows us to pass through keyword arguments\n",
    "=> kwargs is a dictionary that maps each keyword to the value. "
   ]
  },
  {
   "cell_type": "code",
   "execution_count": 3,
   "id": "b23b245e-38d9-45fb-8126-785c6f135b12",
   "metadata": {},
   "outputs": [
    {
     "name": "stdout",
     "output_type": "stream",
     "text": [
      "Hello\n",
      "Welcome\n",
      "to\n",
      "Datascience Masters\n"
     ]
    }
   ],
   "source": [
    "#Function for *args\n",
    "def fun_argu(*data):\n",
    "    for arg in data:\n",
    "        print(arg)\n",
    " \n",
    " \n",
    "fun_argu('Hello', 'Welcome', 'to', 'Datascience Masters')"
   ]
  },
  {
   "cell_type": "code",
   "execution_count": 4,
   "id": "d0cdab11-02eb-4737-9c35-2b1f88bea483",
   "metadata": {},
   "outputs": [
    {
     "name": "stdout",
     "output_type": "stream",
     "text": [
      "coursename == Datascience Masters\n",
      "name == John\n",
      "company == pwskills\n"
     ]
    }
   ],
   "source": [
    "#Function for **kwargs\n",
    "def fun_argu(**kwargs):\n",
    "    for key, value in kwargs.items():\n",
    "        print(\"%s == %s\" % (key, value))\n",
    " \n",
    " \n",
    "# Driver code\n",
    "fun_argu(coursename='Datascience Masters', name='John', company='pwskills')"
   ]
  },
  {
   "cell_type": "markdown",
   "id": "3f0104fe-8146-4a2f-b1e7-68aa132c89ca",
   "metadata": {},
   "source": [
    "Q.3 What is an iterator in python?Name the method used to initialize the iterator object and the method used for iterator. Use these methods to print the first five elements of the given list[2,4,6,8,10,12,14,16,18,20]"
   ]
  },
  {
   "cell_type": "code",
   "execution_count": null,
   "id": "6607b756-eb45-40d8-a0c5-5702987400e7",
   "metadata": {},
   "outputs": [],
   "source": [
    "Ans:- An iterator is an object that contains a countable number of values.\n",
    "\n",
    "=> Iterators are methods that iterate collections like lists, tuples, etc. Using an iterator method, we can loop through an object and return its elements.\n",
    "=> When we use the for loop with an iterator, the loop will automatically iterate over the elements of the iterator until it is exhausted.\n",
    "=> The iterator object is initialized using the iter() method. It uses the next() method for iteration.\n",
    "    \n"
   ]
  },
  {
   "cell_type": "code",
   "execution_count": 5,
   "id": "9707168e-c87b-46c9-80d9-66060ce6e178",
   "metadata": {},
   "outputs": [
    {
     "name": "stdout",
     "output_type": "stream",
     "text": [
      "2\n",
      "4\n",
      "6\n",
      "8\n",
      "10\n"
     ]
    }
   ],
   "source": [
    "# Use these methods to print the first five elements of the given list[2,4,6,8,10,12,14,16,18,20]\n",
    "l=[2, 4, 6, 8, 10, 12, 14, 16, 18, 20]\n",
    "count=0\n",
    "for i in l:\n",
    "    if count<5:\n",
    "        print(i)\n",
    "        count+=1"
   ]
  },
  {
   "cell_type": "markdown",
   "id": "8e2f05f8-0310-450c-860a-5c5aeca87ca3",
   "metadata": {},
   "source": [
    "Q4. What is a generator function in python? Why yield keyword is used? Give an example of a generator function."
   ]
  },
  {
   "cell_type": "markdown",
   "id": "62260f3c-af99-4a02-a58b-1cc532fe90ab",
   "metadata": {},
   "source": [
    "Ans: A generator function in Python is a special type of function that returns a generator iterator, which can be used to iterate over a sequence of elements.\n",
    "\n",
    "=>A generator function is defined like a normal function, but  instead of using the return statement to return a value, it uses the yield statement. \n",
    "=>The yield statement is used to produce a value, and the generator function can be resumed from where it left off the next time next() is called on the generator.\n",
    "=>Examples of iterable objects that are used more commonly include lists, dictionaries, and strings."
   ]
  },
  {
   "cell_type": "code",
   "execution_count": 6,
   "id": "d90f54fc-be8e-4480-b2dd-04b527a0126e",
   "metadata": {},
   "outputs": [
    {
     "name": "stdout",
     "output_type": "stream",
     "text": [
      "0\n",
      "1\n",
      "1\n",
      "2\n",
      "3\n",
      "5\n",
      "8\n",
      "13\n",
      "21\n",
      "34\n"
     ]
    }
   ],
   "source": [
    "#fibonacci series program using generator yield\n",
    "def fibonacci():\n",
    "    a, b = 0, 1\n",
    "    while True:\n",
    "        yield a\n",
    "        a, b = b, a + b\n",
    "\n",
    "fib = fibonacci()\n",
    "for i in range(10):\n",
    "    print(next(fib))"
   ]
  },
  {
   "cell_type": "markdown",
   "id": "6cf5420c-30d7-4c2e-8e33-cdcace93a5c2",
   "metadata": {},
   "source": [
    "Q.5 Create a generator function for prime numbers less than 1000.Use the next() method to print the first 20 prime numbers."
   ]
  },
  {
   "cell_type": "code",
   "execution_count": 7,
   "id": "796c1a47-d696-4e2f-b329-799eff7357dd",
   "metadata": {},
   "outputs": [],
   "source": [
    "def prime() :\n",
    "    yield 2\n",
    "    primeno_list = [2]\n",
    "    for i in range(3,1000):\n",
    "        isPrime = True\n",
    "        \n",
    "        for j in range(3,i):\n",
    "            \n",
    "            if i % j == 0:\n",
    "                isPrime = False\n",
    "                break\n",
    "        if isPrime:\n",
    "            primeno_list.append(i)\n",
    "            yield i        "
   ]
  },
  {
   "cell_type": "code",
   "execution_count": 8,
   "id": "65be0932-b512-419a-9be7-6ae952ecaa67",
   "metadata": {},
   "outputs": [
    {
     "data": {
      "text/plain": [
       "<generator object prime at 0x7f120ac47e60>"
      ]
     },
     "execution_count": 8,
     "metadata": {},
     "output_type": "execute_result"
    }
   ],
   "source": [
    "prime()"
   ]
  },
  {
   "cell_type": "code",
   "execution_count": 9,
   "id": "c519f102-1b25-4f33-8293-33e5a382c57e",
   "metadata": {},
   "outputs": [
    {
     "name": "stdout",
     "output_type": "stream",
     "text": [
      "Prime Nos are:-  2\n",
      "Prime Nos are:-  3\n",
      "Prime Nos are:-  4\n",
      "Prime Nos are:-  5\n",
      "Prime Nos are:-  7\n",
      "Prime Nos are:-  11\n",
      "Prime Nos are:-  13\n",
      "Prime Nos are:-  17\n",
      "Prime Nos are:-  19\n",
      "Prime Nos are:-  23\n",
      "Prime Nos are:-  29\n",
      "Prime Nos are:-  31\n",
      "Prime Nos are:-  37\n",
      "Prime Nos are:-  41\n",
      "Prime Nos are:-  43\n",
      "Prime Nos are:-  47\n",
      "Prime Nos are:-  53\n",
      "Prime Nos are:-  59\n",
      "Prime Nos are:-  61\n",
      "Prime Nos are:-  67\n"
     ]
    }
   ],
   "source": [
    "prm = prime()\n",
    "for i in range(20):\n",
    "    print(\"Prime Nos are:- \",next(prm))"
   ]
  },
  {
   "cell_type": "markdown",
   "id": "7fc6ec16-eebe-4a84-8816-3d862292c8ec",
   "metadata": {},
   "source": [
    "Q.6 Write a python program to print the first 10 Fibonacci numbers using a while loop."
   ]
  },
  {
   "cell_type": "code",
   "execution_count": 10,
   "id": "b83c6f49-371b-46ad-88b3-d8f79da908b9",
   "metadata": {},
   "outputs": [
    {
     "name": "stdout",
     "output_type": "stream",
     "text": [
      "Fibonacci series is: \n",
      "0\n",
      "1\n",
      "1\n",
      "2\n",
      "3\n",
      "5\n",
      "8\n",
      "13\n",
      "21\n",
      "34\n"
     ]
    }
   ],
   "source": [
    "#fibonacci Series\n",
    "number = 10\n",
    "a , b = 0, 1\n",
    "counter = 0\n",
    "print(\"Fibonacci series is: \")\n",
    "while counter < number :\n",
    "    print(a)\n",
    "    c = a+b\n",
    "    a = b \n",
    "    b = c\n",
    "    counter = counter + 1"
   ]
  },
  {
   "cell_type": "markdown",
   "id": "0717e726-c777-4eb3-8826-587329a467db",
   "metadata": {},
   "source": [
    "Q.7 Write a list Comprehesion to iterate through the given string:'pwskills'.\n",
    "Expected output:['p','w','s','k','i','l','l','s']"
   ]
  },
  {
   "cell_type": "code",
   "execution_count": 11,
   "id": "cda679d4-0c7c-4be7-92d1-953f93a9ae5d",
   "metadata": {},
   "outputs": [
    {
     "data": {
      "text/plain": [
       "['p', 'w', 's', 'k', 'i', 'l', 'l', 's']"
      ]
     },
     "execution_count": 11,
     "metadata": {},
     "output_type": "execute_result"
    }
   ],
   "source": [
    "s = \"pwskills\"\n",
    "[i for i in s]"
   ]
  },
  {
   "cell_type": "markdown",
   "id": "96cd769d-16af-45b3-9148-d1ba143f316b",
   "metadata": {},
   "source": [
    "Q.8 Write a python program to check wheather a given number is pallindrom or not using a while loop."
   ]
  },
  {
   "cell_type": "code",
   "execution_count": 12,
   "id": "a9dfeab8-76a5-4cd4-b9a4-51ea1f71cd79",
   "metadata": {},
   "outputs": [
    {
     "name": "stdin",
     "output_type": "stream",
     "text": [
      "Enter Your Number:  141\n"
     ]
    },
    {
     "name": "stdout",
     "output_type": "stream",
     "text": [
      "141 is a palindrom number\n"
     ]
    }
   ],
   "source": [
    "n = int(input(\"Enter Your Number: \"))\n",
    "rev = 0\n",
    "n1 = n\n",
    "while n!= 0:\n",
    "    dg = n % 10\n",
    "    rev = rev * 10 + dg\n",
    "    n = n // 10\n",
    "if n1 == rev:\n",
    "    print(n1,\"is a palindrom number\")\n",
    "else :\n",
    "    print(n1,\"is not a palindrom number\")\n",
    "    "
   ]
  },
  {
   "cell_type": "markdown",
   "id": "39bc33e2-a00f-4912-a4db-a3986cae729b",
   "metadata": {},
   "source": [
    "Q.9 Write a code to print odd numbers from 1 to 100 using list comprehension."
   ]
  },
  {
   "cell_type": "code",
   "execution_count": 13,
   "id": "9d398da9-7c01-47ee-8e55-4c0a934dc21e",
   "metadata": {},
   "outputs": [
    {
     "name": "stdout",
     "output_type": "stream",
     "text": [
      "Odd Numbers from 1 to 100 are:  [1, 3, 5, 7, 9, 11, 13, 15, 17, 19, 21, 23, 25, 27, 29, 31, 33, 35, 37, 39, 41, 43, 45, 47, 49, 51, 53, 55, 57, 59, 61, 63, 65, 67, 69, 71, 73, 75, 77, 79, 81, 83, 85, 87, 89, 91, 93, 95, 97, 99] "
     ]
    }
   ],
   "source": [
    "l = [i for i in range(1,101) if i % 2 != 0]\n",
    "print(\"Odd Numbers from 1 to 100 are: \",l , end = \" \")"
   ]
  },
  {
   "cell_type": "code",
   "execution_count": null,
   "id": "df8d6052-80cb-4321-ba9f-b81d02e2174b",
   "metadata": {},
   "outputs": [],
   "source": []
  }
 ],
 "metadata": {
  "kernelspec": {
   "display_name": "Python 3 (ipykernel)",
   "language": "python",
   "name": "python3"
  },
  "language_info": {
   "codemirror_mode": {
    "name": "ipython",
    "version": 3
   },
   "file_extension": ".py",
   "mimetype": "text/x-python",
   "name": "python",
   "nbconvert_exporter": "python",
   "pygments_lexer": "ipython3",
   "version": "3.10.6"
  }
 },
 "nbformat": 4,
 "nbformat_minor": 5
}
